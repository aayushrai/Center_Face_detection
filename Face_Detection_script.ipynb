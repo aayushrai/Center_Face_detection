{
 "cells": [
  {
   "cell_type": "code",
   "execution_count": 43,
   "metadata": {},
   "outputs": [],
   "source": [
    "import cv2\n",
    "import numpy as np\n",
    "import matplotlib.pyplot as plt"
   ]
  },
  {
   "cell_type": "code",
   "execution_count": 44,
   "metadata": {},
   "outputs": [],
   "source": [
    "cap = cv2.VideoCapture(0)\n",
    "face_cascade = cv2.CascadeClassifier('Haarcascade\\\\haarcascade_frontalface_default.xml')\n",
    "ret, frame = cap.read()\n",
    "center_coordinates = (frame.shape[1]//2,frame.shape[0]//2) \n",
    "radius = frame.shape[0]//3\n",
    "x,y,w,h = center_coordinates[0]-radius,center_coordinates[1]-radius,2*radius,2*radius\n",
    "\n",
    "font = cv2.FONT_HERSHEY_COMPLEX\n",
    "Blue = (255, 0, 0)\n",
    "Red =  (0,0,255)\n",
    "Green = (0,255,0)\n",
    "Black = (0,0,0)\n",
    "thickness = 2\n",
    "org = ((frame.shape[1]//2)-100, frame.shape[0]-25) \n",
    "fontScale = 1"
   ]
  },
  {
   "cell_type": "code",
   "execution_count": 45,
   "metadata": {},
   "outputs": [],
   "source": [
    "while True:\n",
    "    ret, frame = cap.read()\n",
    "    frame2 = frame[y:y+h,x:x+w,:].copy()\n",
    "    \n",
    "   # frame = cv2.rectangle(frame,(x,y),(x+w,y+h),(255,0,0),2)\n",
    "    faces = face_cascade.detectMultiScale(frame2, 1.3, 5)\n",
    "    if len(faces)>1:\n",
    "        frame = cv2.putText(frame, 'More Then One Face Detected!',org,font,fontScale, color, thickness, cv2.LINE_AA)\n",
    "    if len(faces) == 1:\n",
    "        fx,fy,fw,fh = faces[0]\n",
    "        if fw > w//2 and fh > h//2:\n",
    "            frame = cv2.circle(frame, center_coordinates, radius,Green , thickness)\n",
    "        else:\n",
    "            frame = cv2.circle(frame, center_coordinates, radius, Red, thickness)\n",
    "       # frame = cv2.putText(frame, 'Face Detected!',org,font,fontScale,Red,1, cv2.LINE_AA)\n",
    "     #   frame = cv2.circle(frame, center_coordinates, radius,Green , thickness)\n",
    "    else:\n",
    "        frame = cv2.circle(frame, center_coordinates, radius, Black, thickness)\n",
    "    if ret:\n",
    "        cv2.imshow('frame',frame)\n",
    "        cv2.imshow('frame2',frame2)\n",
    "     \n",
    "    if cv2.waitKey(1) & 0xFF == ord('q'):\n",
    "        break\n",
    "\n",
    "cap.release()\n",
    "cv2.destroyAllWindows()"
   ]
  },
  {
   "cell_type": "code",
   "execution_count": null,
   "metadata": {},
   "outputs": [],
   "source": []
  },
  {
   "cell_type": "code",
   "execution_count": null,
   "metadata": {},
   "outputs": [],
   "source": []
  }
 ],
 "metadata": {
  "kernelspec": {
   "display_name": "Python 3",
   "language": "python",
   "name": "python3"
  },
  "language_info": {
   "codemirror_mode": {
    "name": "ipython",
    "version": 3
   },
   "file_extension": ".py",
   "mimetype": "text/x-python",
   "name": "python",
   "nbconvert_exporter": "python",
   "pygments_lexer": "ipython3",
   "version": "3.6.9"
  }
 },
 "nbformat": 4,
 "nbformat_minor": 2
}
